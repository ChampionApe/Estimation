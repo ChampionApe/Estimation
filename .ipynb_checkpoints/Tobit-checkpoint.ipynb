{
 "cells": [
  {
   "cell_type": "markdown",
   "metadata": {},
   "source": [
    "# Small application of 'Tobit' class"
   ]
  },
  {
   "cell_type": "markdown",
   "metadata": {},
   "source": [
    "### **1: Packages**"
   ]
  },
  {
   "cell_type": "code",
   "execution_count": 2,
   "metadata": {},
   "outputs": [],
   "source": [
    "import pickle\n",
    "import requests\n",
    "import json\n",
    "import numpy as np\n",
    "from Estimation import Tobit\n",
    "import matplotlib as mpl\n",
    "import matplotlib.pyplot as plt\n",
    "%matplotlib inline\n",
    "plt.style.use('seaborn-whitegrid')\n",
    "mpl.style.use('seaborn')\n",
    "prop_cycle = plt.rcParams[\"axes.prop_cycle\"]\n",
    "colors = prop_cycle.by_key()[\"color\"]"
   ]
  },
  {
   "cell_type": "markdown",
   "metadata": {},
   "source": [
    "### **2: Load data**"
   ]
  },
  {
   "cell_type": "markdown",
   "metadata": {},
   "source": [
    "*NB: This collects data from Energidataservice.dk. Data is stored as a pickle to skip downloading.*"
   ]
  },
  {
   "cell_type": "code",
   "execution_count": 3,
   "metadata": {
    "jupyter": {
     "source_hidden": true
    }
   },
   "outputs": [],
   "source": [
    "UPDATE = 'No'\n",
    "if UPDATE=='YES':\n",
    "    # Data from api:\n",
    "    url = \"https://api.energidataservice.dk/datastore_search_sql?sql=SELECT * FROM transmissionlines WHERE \\\"HourDK\\\" < '2020-01-01' LIMIT 5000000\"\n",
    "    r = requests.get(url)\n",
    "    #Electricity balance data:\n",
    "    url = \"https://api.energidataservice.dk/datastore_search_sql?sql=SELECT * FROM electricitybalance WHERE \\\"HourDK\\\" < '2020-01-01' LIMIT 5000000\"\n",
    "    r_ebd = requests.get(url)\n",
    "    print(r,r_ebd)\n",
    "    # Subset:\n",
    "    years = [str(y) for y in range(2011,2019)]\n",
    "    variables = ['HourDK', 'PriceArea','ConnectedArea','ImportCapacity','ExportCapacity','ScheduledExchangeDayAhead','PhysicalExchangeSettlement',\n",
    "             'CongestionIncomeDKK','HomePriceDKK','ConnectedPriceDKK']\n",
    "    variables_ebd = ['HourDK','PriceArea','GrossCon','OffshoreWindPower','OnshoreWindPower','SolarPowerProd','ExchangeContinent','ExchangeGreatBelt','ExchangeNordicCountries']\n",
    "    rawdata = r.json()['result']['records']\n",
    "    # Extract data to pandas dataframes:\n",
    "    data = {var: [rawdata[i][var] for i in range(0,len(rawdata))] for var in variables}\n",
    "    data['year'] = [data['HourDK'][x].split('-')[0] for x in range(0,len(data['HourDK']))]\n",
    "    data = pd.DataFrame(data)\n",
    "    rawdata_ebd = r_ebd.json()['result']['records']\n",
    "    data_ebd = {var: [rawdata_ebd[i][var] for i in range(0,len(rawdata_ebd))] for var in variables_ebd}\n",
    "    data_ebd['year'] = [data_ebd['HourDK'][x].split('-')[0] for x in range(0,len(data_ebd['HourDK']))]\n",
    "    data_ebd = pd.DataFrame(data_ebd)\n",
    "    # Write to pickle:\n",
    "    f = open(\"TransmissionData.pkl\", \"wb\")\n",
    "    pickle.dump([data,data_ebd],f)\n",
    "    f.close()\n",
    "else:\n",
    "    with open(\"TransmissionData.pkl\", \"rb\") as file:\n",
    "        [data,data_ebd] = pickle.load(file)"
   ]
  },
  {
   "cell_type": "markdown",
   "metadata": {},
   "source": [
    "### **3: Rearrange data**"
   ]
  },
  {
   "cell_type": "code",
   "execution_count": 5,
   "metadata": {
    "jupyter": {
     "source_hidden": true
    }
   },
   "outputs": [],
   "source": [
    "data_sliced = data[['HourDK','PriceArea','ConnectedArea','ImportCapacity','ExportCapacity','PhysicalExchangeSettlement','HomePriceDKK','ConnectedPriceDKK','year']].copy()\n",
    "data_sliced.columns = ['HourDK','EA','EAEA','Icap','Ecap','NX','pe_EA','pe_EAEA','year']\n",
    "data_ebd['ResDemand'] = data_ebd['GrossCon']-data_ebd['OffshoreWindPower']-data_ebd['OnshoreWindPower']-data_ebd['SolarPowerProd']\n",
    "ebd = data_ebd[['HourDK','PriceArea','ResDemand','year']].copy()\n",
    "ebd.columns = ['HourDK','EA','ResDemand','year']\n",
    "data_all = data_sliced.merge(ebd,on=['HourDK','EA','year'])"
   ]
  },
  {
   "cell_type": "markdown",
   "metadata": {},
   "source": [
    "Data for one year, one transmission line:"
   ]
  },
  {
   "cell_type": "code",
   "execution_count": 6,
   "metadata": {
    "jupyter": {
     "source_hidden": true
    }
   },
   "outputs": [],
   "source": [
    "EA_,EAEA_,year_ = 'DK1','DE','2017'\n",
    "data_temp = data_all[(data_all['EA']==EA_) & (data_all['EAEA']==EAEA_) & (data_all['year']==year_)].copy()"
   ]
  },
  {
   "cell_type": "markdown",
   "metadata": {},
   "source": [
    "Final dataset:"
   ]
  },
  {
   "cell_type": "code",
   "execution_count": 7,
   "metadata": {},
   "outputs": [
    {
     "data": {
      "text/html": [
       "<div>\n",
       "<style scoped>\n",
       "    .dataframe tbody tr th:only-of-type {\n",
       "        vertical-align: middle;\n",
       "    }\n",
       "\n",
       "    .dataframe tbody tr th {\n",
       "        vertical-align: top;\n",
       "    }\n",
       "\n",
       "    .dataframe thead th {\n",
       "        text-align: right;\n",
       "    }\n",
       "</style>\n",
       "<table border=\"1\" class=\"dataframe\">\n",
       "  <thead>\n",
       "    <tr style=\"text-align: right;\">\n",
       "      <th></th>\n",
       "      <th>HourDK</th>\n",
       "      <th>EA</th>\n",
       "      <th>EAEA</th>\n",
       "      <th>Icap</th>\n",
       "      <th>Ecap</th>\n",
       "      <th>NX</th>\n",
       "      <th>pe_EA</th>\n",
       "      <th>pe_EAEA</th>\n",
       "      <th>year</th>\n",
       "      <th>ResDemand</th>\n",
       "    </tr>\n",
       "  </thead>\n",
       "  <tbody>\n",
       "    <tr>\n",
       "      <th>3</th>\n",
       "      <td>2017-01-17T23:00:00</td>\n",
       "      <td>DK1</td>\n",
       "      <td>DE</td>\n",
       "      <td>310.0</td>\n",
       "      <td>0.0</td>\n",
       "      <td>-4.18</td>\n",
       "      <td>220.89</td>\n",
       "      <td>280.649736</td>\n",
       "      <td>2017</td>\n",
       "      <td>534.712873</td>\n",
       "    </tr>\n",
       "    <tr>\n",
       "      <th>7</th>\n",
       "      <td>2017-01-18T00:00:00</td>\n",
       "      <td>DK1</td>\n",
       "      <td>DE</td>\n",
       "      <td>320.0</td>\n",
       "      <td>-60.0</td>\n",
       "      <td>-57.16</td>\n",
       "      <td>215.71</td>\n",
       "      <td>284.653908</td>\n",
       "      <td>2017</td>\n",
       "      <td>390.551799</td>\n",
       "    </tr>\n",
       "    <tr>\n",
       "      <th>11</th>\n",
       "      <td>2017-01-18T01:00:00</td>\n",
       "      <td>DK1</td>\n",
       "      <td>DE</td>\n",
       "      <td>320.0</td>\n",
       "      <td>0.0</td>\n",
       "      <td>-18.12</td>\n",
       "      <td>212.51</td>\n",
       "      <td>280.638414</td>\n",
       "      <td>2017</td>\n",
       "      <td>305.964304</td>\n",
       "    </tr>\n",
       "    <tr>\n",
       "      <th>21</th>\n",
       "      <td>2017-01-18T02:00:00</td>\n",
       "      <td>DK1</td>\n",
       "      <td>DE</td>\n",
       "      <td>360.0</td>\n",
       "      <td>0.0</td>\n",
       "      <td>-25.45</td>\n",
       "      <td>211.55</td>\n",
       "      <td>260.932749</td>\n",
       "      <td>2017</td>\n",
       "      <td>222.864581</td>\n",
       "    </tr>\n",
       "    <tr>\n",
       "      <th>53</th>\n",
       "      <td>2017-01-18T03:00:00</td>\n",
       "      <td>DK1</td>\n",
       "      <td>DE</td>\n",
       "      <td>370.0</td>\n",
       "      <td>0.0</td>\n",
       "      <td>-15.09</td>\n",
       "      <td>212.21</td>\n",
       "      <td>260.784027</td>\n",
       "      <td>2017</td>\n",
       "      <td>227.867328</td>\n",
       "    </tr>\n",
       "    <tr>\n",
       "      <th>...</th>\n",
       "      <td>...</td>\n",
       "      <td>...</td>\n",
       "      <td>...</td>\n",
       "      <td>...</td>\n",
       "      <td>...</td>\n",
       "      <td>...</td>\n",
       "      <td>...</td>\n",
       "      <td>...</td>\n",
       "      <td>...</td>\n",
       "      <td>...</td>\n",
       "    </tr>\n",
       "    <tr>\n",
       "      <th>249363</th>\n",
       "      <td>2017-02-22T02:00:00</td>\n",
       "      <td>DK1</td>\n",
       "      <td>DE</td>\n",
       "      <td>1500.0</td>\n",
       "      <td>0.0</td>\n",
       "      <td>666.74</td>\n",
       "      <td>70.61</td>\n",
       "      <td>70.615400</td>\n",
       "      <td>2017</td>\n",
       "      <td>-849.804246</td>\n",
       "    </tr>\n",
       "    <tr>\n",
       "      <th>249367</th>\n",
       "      <td>2017-02-22T03:00:00</td>\n",
       "      <td>DK1</td>\n",
       "      <td>DE</td>\n",
       "      <td>1500.0</td>\n",
       "      <td>0.0</td>\n",
       "      <td>604.80</td>\n",
       "      <td>56.93</td>\n",
       "      <td>56.938312</td>\n",
       "      <td>2017</td>\n",
       "      <td>-778.143472</td>\n",
       "    </tr>\n",
       "    <tr>\n",
       "      <th>249371</th>\n",
       "      <td>2017-02-22T04:00:00</td>\n",
       "      <td>DK1</td>\n",
       "      <td>DE</td>\n",
       "      <td>1500.0</td>\n",
       "      <td>0.0</td>\n",
       "      <td>756.79</td>\n",
       "      <td>37.39</td>\n",
       "      <td>37.388996</td>\n",
       "      <td>2017</td>\n",
       "      <td>-683.427698</td>\n",
       "    </tr>\n",
       "    <tr>\n",
       "      <th>249375</th>\n",
       "      <td>2017-02-22T05:00:00</td>\n",
       "      <td>DK1</td>\n",
       "      <td>DE</td>\n",
       "      <td>1500.0</td>\n",
       "      <td>0.0</td>\n",
       "      <td>798.16</td>\n",
       "      <td>57.08</td>\n",
       "      <td>57.086976</td>\n",
       "      <td>2017</td>\n",
       "      <td>-535.941648</td>\n",
       "    </tr>\n",
       "    <tr>\n",
       "      <th>472604</th>\n",
       "      <td>2017-12-31T11:00:00</td>\n",
       "      <td>DK1</td>\n",
       "      <td>DE</td>\n",
       "      <td>1500.0</td>\n",
       "      <td>-400.0</td>\n",
       "      <td>1517.27</td>\n",
       "      <td>205.23</td>\n",
       "      <td>68.493080</td>\n",
       "      <td>2017</td>\n",
       "      <td>427.372986</td>\n",
       "    </tr>\n",
       "  </tbody>\n",
       "</table>\n",
       "<p>8762 rows × 10 columns</p>\n",
       "</div>"
      ],
      "text/plain": [
       "                     HourDK   EA EAEA    Icap   Ecap       NX   pe_EA  \\\n",
       "3       2017-01-17T23:00:00  DK1   DE   310.0    0.0    -4.18  220.89   \n",
       "7       2017-01-18T00:00:00  DK1   DE   320.0  -60.0   -57.16  215.71   \n",
       "11      2017-01-18T01:00:00  DK1   DE   320.0    0.0   -18.12  212.51   \n",
       "21      2017-01-18T02:00:00  DK1   DE   360.0    0.0   -25.45  211.55   \n",
       "53      2017-01-18T03:00:00  DK1   DE   370.0    0.0   -15.09  212.21   \n",
       "...                     ...  ...  ...     ...    ...      ...     ...   \n",
       "249363  2017-02-22T02:00:00  DK1   DE  1500.0    0.0   666.74   70.61   \n",
       "249367  2017-02-22T03:00:00  DK1   DE  1500.0    0.0   604.80   56.93   \n",
       "249371  2017-02-22T04:00:00  DK1   DE  1500.0    0.0   756.79   37.39   \n",
       "249375  2017-02-22T05:00:00  DK1   DE  1500.0    0.0   798.16   57.08   \n",
       "472604  2017-12-31T11:00:00  DK1   DE  1500.0 -400.0  1517.27  205.23   \n",
       "\n",
       "           pe_EAEA  year   ResDemand  \n",
       "3       280.649736  2017  534.712873  \n",
       "7       284.653908  2017  390.551799  \n",
       "11      280.638414  2017  305.964304  \n",
       "21      260.932749  2017  222.864581  \n",
       "53      260.784027  2017  227.867328  \n",
       "...            ...   ...         ...  \n",
       "249363   70.615400  2017 -849.804246  \n",
       "249367   56.938312  2017 -778.143472  \n",
       "249371   37.388996  2017 -683.427698  \n",
       "249375   57.086976  2017 -535.941648  \n",
       "472604   68.493080  2017  427.372986  \n",
       "\n",
       "[8762 rows x 10 columns]"
      ]
     },
     "execution_count": 7,
     "metadata": {},
     "output_type": "execute_result"
    }
   ],
   "source": [
    "data_temp"
   ]
  },
  {
   "cell_type": "markdown",
   "metadata": {},
   "source": [
    "### **4: Set up data on required form**"
   ]
  },
  {
   "cell_type": "markdown",
   "metadata": {},
   "source": [
    "The Tobit class requires inputs on the form:\n",
    "* Initial guess of parameter values, $\\theta_0$,\n",
    "* Explanatory variables as np.array, $x$,\n",
    "* dependent variable as np.array (vector), $y$."
   ]
  },
  {
   "cell_type": "code",
   "execution_count": 8,
   "metadata": {},
   "outputs": [],
   "source": [
    "theta0 = np.array([1000,0,0,0,500])\n",
    "beta0 = theta0[:-1]\n",
    "sigma0 = theta0[-1]\n",
    "x = data_temp[['ResDemand','pe_EA','pe_EAEA']].values\n",
    "y = abs(data_temp[['Ecap']].values.flatten())"
   ]
  },
  {
   "cell_type": "markdown",
   "metadata": {},
   "source": [
    "### **5: Initialize**"
   ]
  },
  {
   "cell_type": "markdown",
   "metadata": {},
   "source": [
    "The likelihood estimation ultimately relies on *scipy.optimize.minimize*. You can pass options to the solver through a dictionary, e.g.:"
   ]
  },
  {
   "cell_type": "code",
   "execution_count": 10,
   "metadata": {},
   "outputs": [],
   "source": [
    "min_settings = {'method': 'Nelder-Mead',\n",
    "                'tol': None}"
   ]
  },
  {
   "cell_type": "markdown",
   "metadata": {},
   "source": [
    "initialize"
   ]
  },
  {
   "cell_type": "code",
   "execution_count": 12,
   "metadata": {},
   "outputs": [],
   "source": [
    "Tobit_reg = Tobit(x,y)"
   ]
  },
  {
   "cell_type": "markdown",
   "metadata": {},
   "source": [
    "and pass settings through upd_par function:"
   ]
  },
  {
   "cell_type": "code",
   "execution_count": 13,
   "metadata": {},
   "outputs": [],
   "source": [
    "Tobit_reg.upd_par(min_settings)"
   ]
  },
  {
   "cell_type": "markdown",
   "metadata": {},
   "source": [
    "### **6: Standard features**"
   ]
  },
  {
   "cell_type": "markdown",
   "metadata": {},
   "source": [
    "The class contains a number of **static methods** that can be called as the user pleases, these includes:\n",
    "* *tobit_ll(y,x,theta,intercept=True)*: Negative log-likelihood with data $(y,x)$, parameters $\\theta$, with intercept (if True).\n",
    "* *tobit_sim(theta,X=None,N=100)*: Simulate data from\n",
    "    $$\\begin{align}\n",
    "        y &= \\max\\left(X\\beta+\\epsilon,0\\right), && \\epsilon\\sim N(0,\\sigma) \\\\ \n",
    "        \\theta &= [\\beta, \\sigma]\n",
    "    \\end{align}$$\n",
    "    where $N$ is number of draws, and $X=None$ enables drawing of random values of $X$ as well (alternative is to pass in actual data here).\n",
    "* *tobit_novariance(theta,x,intercept=True)*: Returns $max(x\\beta,0)$.\n",
    "* *tobit_censor_prob(theta,x,intercept=True)*: Returns probability $1-\\Phi(x\\beta/\\sigma)$.\n",
    "* *tobit_cond_exp(theta,x,intercept=True)*: Returns $E[y|x]$.\n",
    "* *tobit_cond_exp_pos(theta,x,intercept=True)*: Returns $E[y|x,y>0]$.\n",
    "\n",
    "Besides static methods, the class includes methods:\n",
    "* *max_ll(self,theta0)*: Maximizes likelihood function with initial parameter guess $\\theta_0$. If not successfull a message is returned, otherwise $self.theta$ with estimated \n",
    "parameters is added.\n",
    "* *predict(self)*: Computes $E[y|x],E[y|x,y>0]$ for all *self.x* data entries. Adds these as *self.predicted,self.predicted_pos*.\n",
    "* *plot_fit(self)*: Plots scatterplot of $x \\beta$ against data. Includes $E[y|x],E[y|x,y>0]$."
   ]
  },
  {
   "cell_type": "markdown",
   "metadata": {},
   "source": [
    "### **7: Run example**"
   ]
  },
  {
   "cell_type": "code",
   "execution_count": 14,
   "metadata": {},
   "outputs": [
    {
     "data": {
      "image/png": "[encoded data removed]",
      "text/plain": [
       "<Figure size 576x432 with 1 Axes>"
      ]
     },
     "metadata": {},
     "output_type": "display_data"
    }
   ],
   "source": [
    "Tobit_reg = Tobit(x,y)\n",
    "Tobit_reg.max_ll(theta0)\n",
    "Tobit_reg.predict()\n",
    "Tobit_reg.plot_fit()"
   ]
  }
 ],
 "metadata": {
  "kernelspec": {
   "display_name": "Python 3",
   "language": "python",
   "name": "python3"
  },
  "language_info": {
   "codemirror_mode": {
    "name": "ipython",
    "version": 3
   },
   "file_extension": ".py",
   "mimetype": "text/x-python",
   "name": "python",
   "nbconvert_exporter": "python",
   "pygments_lexer": "ipython3",
   "version": "3.7.4"
  }
 },
 "nbformat": 4,
 "nbformat_minor": 4
}
